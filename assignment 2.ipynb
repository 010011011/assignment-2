{
 "cells": [
  {
   "cell_type": "markdown",
   "id": "52949b2c",
   "metadata": {},
   "source": [
    "#Q1"
   ]
  },
  {
   "cell_type": "code",
   "execution_count": 3,
   "id": "947c5140",
   "metadata": {},
   "outputs": [],
   "source": [
    "def f(x):\n",
    "    if x == 0:\n",
    "        return 0\n",
    "       \n",
    "    elif x == 1:\n",
    "        return 1\n",
    "    else:\n",
    "        return f(x-1) + f(x-2)"
   ]
  },
  {
   "cell_type": "code",
   "execution_count": 5,
   "id": "755d62d7",
   "metadata": {},
   "outputs": [
    {
     "data": {
      "text/plain": [
       "987"
      ]
     },
     "execution_count": 5,
     "metadata": {},
     "output_type": "execute_result"
    }
   ],
   "source": [
    "f(16)"
   ]
  },
  {
   "cell_type": "markdown",
   "id": "365c24a4",
   "metadata": {},
   "source": [
    "#Q2"
   ]
  },
  {
   "cell_type": "code",
   "execution_count": 7,
   "id": "47f3a0e3",
   "metadata": {},
   "outputs": [
    {
     "data": {
      "text/plain": [
       "{'kratos alaa': 2, 'hamada helal': 1, 'wasla usb': 1}"
      ]
     },
     "execution_count": 7,
     "metadata": {},
     "output_type": "execute_result"
    }
   ],
   "source": [
    "x = [\"kratos alaa\",\"hamada helal\",\"wasla usb\",\"kratos alaa\"]\n",
    "d = {}\n",
    "for i in x:\n",
    "    if i in d:\n",
    "        d[i] +=1\n",
    "    else:\n",
    "        d[i] =1\n",
    "d"
   ]
  },
  {
   "cell_type": "markdown",
   "id": "d4edd96c",
   "metadata": {},
   "source": [
    "#Q3"
   ]
  },
  {
   "cell_type": "code",
   "execution_count": 17,
   "id": "0a8fda71",
   "metadata": {},
   "outputs": [],
   "source": [
    "def fp(l,l2):\n",
    "    R = []\n",
    "    while l:\n",
    "        num = l.pop()\n",
    "        diff = l2 - num\n",
    "        if diff in l:\n",
    "            R.append((diff , num))\n",
    "    return R\n",
    "    "
   ]
  },
  {
   "cell_type": "code",
   "execution_count": 18,
   "id": "2fa3f215",
   "metadata": {},
   "outputs": [
    {
     "data": {
      "text/plain": [
       "[(1, 8), (6, 3)]"
      ]
     },
     "execution_count": 18,
     "metadata": {},
     "output_type": "execute_result"
    }
   ],
   "source": [
    "fp([1,2,34,5,6,73,3,8] ,9)"
   ]
  },
  {
   "cell_type": "markdown",
   "id": "826710c6",
   "metadata": {},
   "source": [
    "#Q4"
   ]
  },
  {
   "cell_type": "code",
   "execution_count": 25,
   "id": "f5824fe2",
   "metadata": {},
   "outputs": [],
   "source": [
    "def max_sum(num):\n",
    "    num.sort()\n",
    "   \n",
    "    return (num[-2] , num[-1])\n",
    "    \n",
    "        "
   ]
  },
  {
   "cell_type": "code",
   "execution_count": 26,
   "id": "746f8402",
   "metadata": {},
   "outputs": [
    {
     "data": {
      "text/plain": [
       "(236, 886)"
      ]
     },
     "execution_count": 26,
     "metadata": {},
     "output_type": "execute_result"
    }
   ],
   "source": [
    "max_sum([34,235,75,236,7,886,57])"
   ]
  },
  {
   "cell_type": "markdown",
   "id": "74185162",
   "metadata": {},
   "source": [
    "#Q5"
   ]
  },
  {
   "cell_type": "code",
   "execution_count": 29,
   "id": "2a0f0e40",
   "metadata": {},
   "outputs": [
    {
     "name": "stdout",
     "output_type": "stream",
     "text": [
      "2 prime\n",
      "3 prime\n",
      "5 prime\n",
      "7 prime\n",
      "11 prime\n",
      "13 prime\n",
      "17 prime\n",
      "19 prime\n",
      "23 prime\n",
      "29 prime\n",
      "31 prime\n",
      "37 prime\n",
      "41 prime\n",
      "43 prime\n",
      "47 prime\n",
      "53 prime\n",
      "59 prime\n",
      "61 prime\n",
      "67 prime\n",
      "71 prime\n",
      "73 prime\n",
      "79 prime\n",
      "83 prime\n",
      "89 prime\n",
      "97 prime\n"
     ]
    }
   ],
   "source": [
    "for i in range(1,101):\n",
    "    if i <= 1:\n",
    "        pass\n",
    "    else:\n",
    "        for j in range(2,i):\n",
    "            if i % j == 0:\n",
    "                break\n",
    "        else:\n",
    "                print(i,\"prime\")"
   ]
  },
  {
   "cell_type": "markdown",
   "id": "81dbc744",
   "metadata": {},
   "source": [
    "#Q6"
   ]
  },
  {
   "cell_type": "code",
   "execution_count": 13,
   "id": "0f7b69c2",
   "metadata": {},
   "outputs": [
    {
     "name": "stdout",
     "output_type": "stream",
     "text": [
      "2 even\n",
      "4 even\n",
      "6 even\n",
      "8 even\n",
      "10 even\n",
      "12 even\n",
      "14 even\n",
      "16 even\n",
      "18 even\n",
      "20 even\n",
      "22 even\n",
      "24 even\n",
      "26 even\n",
      "28 even\n",
      "30 even\n",
      "32 even\n",
      "34 even\n",
      "36 even\n",
      "38 even\n",
      "40 even\n",
      "42 even\n",
      "44 even\n",
      "46 even\n",
      "48 even\n",
      "50 even\n",
      "52 even\n",
      "54 even\n",
      "56 even\n",
      "58 even\n",
      "60 even\n",
      "62 even\n",
      "64 even\n",
      "66 even\n",
      "68 even\n",
      "70 even\n",
      "72 even\n",
      "74 even\n",
      "76 even\n",
      "78 even\n",
      "80 even\n",
      "82 even\n",
      "84 even\n",
      "86 even\n",
      "88 even\n",
      "90 even\n",
      "92 even\n",
      "94 even\n",
      "96 even\n",
      "98 even\n",
      "100 even\n"
     ]
    }
   ],
   "source": [
    "for i in range(1,101):\n",
    "    if i % 2 == 0 :\n",
    "        print(i,\"even\")"
   ]
  },
  {
   "cell_type": "code",
   "execution_count": 33,
   "id": "cd1bad47",
   "metadata": {},
   "outputs": [],
   "source": [
    "def rev(x):\n",
    "    return ' '.join(x.split()[::-1])\n"
   ]
  },
  {
   "cell_type": "code",
   "execution_count": 34,
   "id": "a3daaf5a",
   "metadata": {},
   "outputs": [
    {
     "data": {
      "text/plain": [
       "'world hello'"
      ]
     },
     "execution_count": 34,
     "metadata": {},
     "output_type": "execute_result"
    }
   ],
   "source": [
    "rev(\"hello world\")"
   ]
  },
  {
   "cell_type": "markdown",
   "id": "56bc052d",
   "metadata": {},
   "source": [
    "#Q8"
   ]
  },
  {
   "cell_type": "code",
   "execution_count": 1,
   "id": "84b494bc",
   "metadata": {
    "scrolled": true
   },
   "outputs": [
    {
     "name": "stdout",
     "output_type": "stream",
     "text": [
      "Enter a number: 505\n",
      "True\n"
     ]
    }
   ],
   "source": [
    "x = int(input(\"Enter a number: \"))\n",
    "y = str(x)\n",
    "if y == y[::-1]:\n",
    "    print(True)\n",
    "else:\n",
    "    print(False)"
   ]
  },
  {
   "cell_type": "markdown",
   "id": "7f39c776",
   "metadata": {},
   "source": [
    "#Q9"
   ]
  },
  {
   "cell_type": "code",
   "execution_count": 2,
   "id": "43e17dc0",
   "metadata": {},
   "outputs": [
    {
     "name": "stdout",
     "output_type": "stream",
     "text": [
      "enter word lol\n",
      "True\n"
     ]
    }
   ],
   "source": [
    "x = input(\"enter word \")\n",
    "if x == x[::-1]:\n",
    "    print(True)\n",
    "else:\n",
    "    print(False)"
   ]
  },
  {
   "cell_type": "markdown",
   "id": "b39c73c4",
   "metadata": {},
   "source": [
    "#Q10"
   ]
  },
  {
   "cell_type": "code",
   "execution_count": 27,
   "id": "d1681efb",
   "metadata": {},
   "outputs": [
    {
     "name": "stdout",
     "output_type": "stream",
     "text": [
      "[1, 4, 9, 16, 25, 36, 49, 64, 81, 100, 121, 144, 169, 196, 225, 256, 289, 324, 361, 400, 441, 484, 529, 576, 625, 676, 729, 784, 841, 900]\n"
     ]
    }
   ],
   "source": [
    "def sq(x):\n",
    "    lst = []\n",
    "    for x in range(1,31):\n",
    "        lst.append(x **2)\n",
    "    print(lst)\n",
    "sq(1)"
   ]
  },
  {
   "cell_type": "markdown",
   "id": "aca6b5c8",
   "metadata": {},
   "source": [
    "#Q11"
   ]
  },
  {
   "cell_type": "code",
   "execution_count": 74,
   "id": "d6b4f8c7",
   "metadata": {},
   "outputs": [],
   "source": [
    "def per(s,i=0):\n",
    "    if i == len(s):\n",
    "        print(\"\".join(s))\n",
    "    for j in range(i, len(s)):\n",
    "        w = [c for c in s]\n",
    "        w[i], w[j] =  w[j], w[i] \n",
    "        \n",
    "        per(w , i + 1)\n",
    "        \n",
    "        "
   ]
  },
  {
   "cell_type": "code",
   "execution_count": 75,
   "id": "ff1b95d0",
   "metadata": {},
   "outputs": [
    {
     "name": "stdout",
     "output_type": "stream",
     "text": [
      "123\n",
      "132\n",
      "213\n",
      "231\n",
      "321\n",
      "312\n"
     ]
    }
   ],
   "source": [
    "per(\"123\")"
   ]
  },
  {
   "cell_type": "code",
   "execution_count": 54,
   "id": "b2d131a9",
   "metadata": {},
   "outputs": [],
   "source": [
    "def fac(x):\n",
    "    if x == 1:\n",
    "        return 1 \n",
    "    else:\n",
    "        return x * factorial(x-1)"
   ]
  },
  {
   "cell_type": "code",
   "execution_count": 62,
   "id": "38540995",
   "metadata": {},
   "outputs": [],
   "source": [
    "def perm(n,r):\n",
    "    \n",
    "    fac(n)/fac(n-r)\n",
    "    return fac(n)/fac(n-r)"
   ]
  },
  {
   "cell_type": "code",
   "execution_count": 64,
   "id": "d92cde40",
   "metadata": {},
   "outputs": [
    {
     "data": {
      "text/plain": [
       "6.0"
      ]
     },
     "execution_count": 64,
     "metadata": {},
     "output_type": "execute_result"
    }
   ],
   "source": [
    "perm(3,2)"
   ]
  },
  {
   "cell_type": "markdown",
   "id": "94e46fc6",
   "metadata": {},
   "source": [
    "#Q12"
   ]
  },
  {
   "cell_type": "code",
   "execution_count": null,
   "id": "9b31e114",
   "metadata": {},
   "outputs": [],
   "source": [
    "def fun1():\n",
    "    def fun2():"
   ]
  }
 ],
 "metadata": {
  "kernelspec": {
   "display_name": "Python 3 (ipykernel)",
   "language": "python",
   "name": "python3"
  },
  "language_info": {
   "codemirror_mode": {
    "name": "ipython",
    "version": 3
   },
   "file_extension": ".py",
   "mimetype": "text/x-python",
   "name": "python",
   "nbconvert_exporter": "python",
   "pygments_lexer": "ipython3",
   "version": "3.11.5"
  }
 },
 "nbformat": 4,
 "nbformat_minor": 5
}
